{
 "cells": [
  {
   "cell_type": "markdown",
   "id": "d101a0de70777e43",
   "metadata": {
    "collapsed": false
   },
   "source": [
    "# English BERT"
   ]
  },
  {
   "cell_type": "code",
   "execution_count": 1,
   "id": "43692ab7eb9469e",
   "metadata": {
    "ExecuteTime": {
     "end_time": "2023-12-15T05:59:00.490088Z",
     "start_time": "2023-12-15T05:59:00.041454Z"
    },
    "collapsed": false
   },
   "outputs": [
    {
     "name": "stderr",
     "output_type": "stream",
     "text": [
      "2023-12-16 13:56:54.530613: E external/local_xla/xla/stream_executor/cuda/cuda_dnn.cc:9261] Unable to register cuDNN factory: Attempting to register factory for plugin cuDNN when one has already been registered\n",
      "2023-12-16 13:56:54.530679: E external/local_xla/xla/stream_executor/cuda/cuda_fft.cc:607] Unable to register cuFFT factory: Attempting to register factory for plugin cuFFT when one has already been registered\n",
      "2023-12-16 13:56:54.532227: E external/local_xla/xla/stream_executor/cuda/cuda_blas.cc:1515] Unable to register cuBLAS factory: Attempting to register factory for plugin cuBLAS when one has already been registered\n",
      "2023-12-16 13:56:54.541600: I tensorflow/core/platform/cpu_feature_guard.cc:182] This TensorFlow binary is optimized to use available CPU instructions in performance-critical operations.\n",
      "To enable the following instructions: AVX2 FMA, in other operations, rebuild TensorFlow with the appropriate compiler flags.\n",
      "2023-12-16 13:56:55.656289: W tensorflow/compiler/tf2tensorrt/utils/py_utils.cc:38] TF-TRT Warning: Could not find TensorRT\n"
     ]
    }
   ],
   "source": [
    "import numpy as np\n",
    "import random as rn\n",
    "import pandas as pd\n",
    "import torch\n",
    "from transformers import RobertaModel, TFRobertaForSequenceClassification, RobertaTokenizer\n",
    "from torch.optim import AdamW, SGD\n",
    "from torch import nn\n",
    "from keras_preprocessing.sequence import pad_sequences\n",
    "from torch.utils.data import TensorDataset, DataLoader, RandomSampler, SequentialSampler\n",
    "from torch.optim import Adam\n",
    "from torch.nn.utils.clip_grad import clip_grad_norm_\n",
    "from torch.cuda.amp import GradScaler, autocast\n",
    "import matplotlib.pyplot as plt\n",
    "from sklearn.model_selection import train_test_split\n",
    "import itertools\n",
    "import gc\n",
    "import tqdm\n",
    "from tqdm import tqdm\n",
    "from sklearn.utils.class_weight import compute_class_weight\n",
    "from sklearn.metrics import classification_report, f1_score, precision_score, recall_score\n",
    "from sklearn import metrics\n",
    "import tensorflow as tf\n",
    "assert tf.__version__ >= \"2.0\"\n"
   ]
  },
  {
   "cell_type": "code",
   "execution_count": 23,
   "id": "29d4654c-3aff-40d5-8c40-3824fe8cc60f",
   "metadata": {},
   "outputs": [
    {
     "name": "stderr",
     "output_type": "stream",
     "text": [
      "Some weights of the PyTorch model were not used when initializing the TF 2.0 model TFRobertaForSequenceClassification: ['roberta.embeddings.position_ids']\n",
      "- This IS expected if you are initializing TFRobertaForSequenceClassification from a PyTorch model trained on another task or with another architecture (e.g. initializing a TFBertForSequenceClassification model from a BertForPreTraining model).\n",
      "- This IS NOT expected if you are initializing TFRobertaForSequenceClassification from a PyTorch model that you expect to be exactly identical (e.g. initializing a TFBertForSequenceClassification model from a BertForSequenceClassification model).\n",
      "Some weights or buffers of the TF 2.0 model TFRobertaForSequenceClassification were not initialized from the PyTorch model and are newly initialized: ['classifier.dense.weight', 'classifier.dense.bias', 'classifier.out_proj.weight', 'classifier.out_proj.bias']\n",
      "You should probably TRAIN this model on a down-stream task to be able to use it for predictions and inference.\n"
     ]
    },
    {
     "name": "stdout",
     "output_type": "stream",
     "text": [
      "25000\n",
      "25000\n"
     ]
    }
   ],
   "source": [
    "from sklearn.base import BaseEstimator, TransformerMixin\n",
    "\n",
    "model_name = 'roberta-base'\n",
    "tokenizer = RobertaTokenizer.from_pretrained(model_name)\n",
    "model = TFRobertaForSequenceClassification.from_pretrained(model_name, num_labels=2)\n",
    "\n",
    "train_data = pd.read_csv(\"data/english/aclImdb/train.tsv\", delimiter='\\t')\n",
    "test_data = pd.read_csv(\"data/english/aclImdb/test.tsv\", delimiter='\\t')\n",
    "\n",
    "train_texts, val_texts, train_labels, val_labels = train_test_split(\n",
    "    train_data['text_a'], train_data['label'], test_size=0.2, random_state=1349\n",
    ")\n",
    "\n",
    "train_reviews = train_texts.tolist()\n",
    "train_labels = train_labels.tolist()\n",
    "\n",
    "val_reviews = val_texts.tolist()\n",
    "val_labels = val_labels.tolist()\n",
    "\n",
    "test_reviews = test_data['text_a'].tolist()\n",
    "test_labels = test_data['label'].tolist()"
   ]
  },
  {
   "cell_type": "code",
   "execution_count": 3,
   "id": "ccbb8a46-586a-4461-8960-2d858eaa099a",
   "metadata": {},
   "outputs": [],
   "source": [
    "class RobertaPreprocessor(BaseEstimator, TransformerMixin):\n",
    "    def __init__(self, tokenizer, max_seq_length):\n",
    "        self.tokenizer = tokenizer\n",
    "        self.max_seq_length = max_seq_length\n",
    "\n",
    "    def transform(self, X, y):\n",
    "        X_encoded = self.encode_texts(X)\n",
    "        y_array = np.array(y)\n",
    "\n",
    "        input_ids = tf.convert_to_tensor(X_encoded['input_ids'], dtype=tf.int32)\n",
    "        attention_mask = tf.convert_to_tensor(X_encoded['attention_mask'], dtype=tf.int32)\n",
    "        y_tensor = tf.convert_to_tensor(y_array, dtype=tf.int64)\n",
    "\n",
    "        return {\"input_ids\": input_ids, \"attention_mask\": attention_mask}, y_tensor\n",
    "\n",
    "    def encode_texts(self, texts):\n",
    "        return self.tokenizer(texts, padding='max_length', truncation=True, max_length=self.max_seq_length, return_tensors=\"tf\")"
   ]
  },
  {
   "cell_type": "code",
   "execution_count": 27,
   "id": "07045d13-b3d7-4aff-b42f-292b30d9454b",
   "metadata": {},
   "outputs": [
    {
     "name": "stdout",
     "output_type": "stream",
     "text": [
      "25000\n",
      "25000\n"
     ]
    }
   ],
   "source": [
    "print(len(test_reviews))\n",
    "print(len(test_labels))"
   ]
  },
  {
   "cell_type": "code",
   "execution_count": 26,
   "id": "8d4091cc-3058-4d02-9fb6-f61df37551cc",
   "metadata": {},
   "outputs": [
    {
     "name": "stdout",
     "output_type": "stream",
     "text": [
      "2\n",
      "25000\n"
     ]
    }
   ],
   "source": [
    "MAX_SEQ_LEN = 512\n",
    "preprocessor = RobertaPreprocessor(tokenizer, MAX_SEQ_LEN)\n",
    "encoded_train, y_train = preprocessor.transform(train_reviews, train_labels)\n",
    "encoded_val, y_val = preprocessor.transform(val_reviews, val_labels)\n",
    "encoded_test, y_test = preprocessor.transform(test_reviews, test_labels)\n",
    "\n",
    "opt = tf.keras.optimizers.Adam(learning_rate=3e-6, epsilon=1e-08)\n",
    "loss_fn = tf.keras.losses.SparseCategoricalCrossentropy(from_logits=True)    \n",
    "model.compile(optimizer=opt, loss=loss_fn, metrics=['accuracy'])"
   ]
  },
  {
   "cell_type": "code",
   "execution_count": 28,
   "id": "6d13650e-8683-4c88-8514-95a54a1c8d6b",
   "metadata": {},
   "outputs": [
    {
     "name": "stdout",
     "output_type": "stream",
     "text": [
      "2\n",
      "25000\n"
     ]
    }
   ],
   "source": [
    "print(len(encoded_test))\n",
    "print(len(y_test))"
   ]
  },
  {
   "cell_type": "code",
   "execution_count": 5,
   "id": "1f5d65b7-dd29-4a0c-85b1-3bc64bc30c88",
   "metadata": {},
   "outputs": [],
   "source": [
    "early_stopper = tf.keras.callbacks.EarlyStopping(\n",
    "    monitor='val_loss', patience=2, verbose=1, restore_best_weights=True\n",
    ")"
   ]
  },
  {
   "cell_type": "code",
   "execution_count": 6,
   "id": "f2bf1905-6f60-4364-9062-4cb058e6421a",
   "metadata": {},
   "outputs": [
    {
     "name": "stdout",
     "output_type": "stream",
     "text": [
      "Epoch 1/3\n"
     ]
    },
    {
     "name": "stderr",
     "output_type": "stream",
     "text": [
      "2023-12-16 12:41:34.040718: I external/local_xla/xla/service/service.cc:168] XLA service 0x7fecb28babf0 initialized for platform CUDA (this does not guarantee that XLA will be used). Devices:\n",
      "2023-12-16 12:41:34.040769: I external/local_xla/xla/service/service.cc:176]   StreamExecutor device (0): Tesla V100-SXM2-16GB, Compute Capability 7.0\n",
      "2023-12-16 12:41:34.048879: I tensorflow/compiler/mlir/tensorflow/utils/dump_mlir_util.cc:269] disabling MLIR crash reproducer, set env var `MLIR_CRASH_REPRODUCER_DIRECTORY` to enable.\n",
      "2023-12-16 12:41:34.070566: I external/local_xla/xla/stream_executor/cuda/cuda_dnn.cc:454] Loaded cuDNN version 8903\n",
      "WARNING: All log messages before absl::InitializeLog() is called are written to STDERR\n",
      "I0000 00:00:1702730494.185545   20908 device_compiler.h:186] Compiled cluster using XLA!  This line is logged at most once for the lifetime of the process.\n"
     ]
    },
    {
     "name": "stdout",
     "output_type": "stream",
     "text": [
      "1250/1250 [==============================] - 829s 630ms/step - loss: 0.2493 - accuracy: 0.8871 - val_loss: 0.1516 - val_accuracy: 0.9466\n",
      "Epoch 2/3\n",
      "1250/1250 [==============================] - 779s 623ms/step - loss: 0.1442 - accuracy: 0.9498 - val_loss: 0.1453 - val_accuracy: 0.9490\n",
      "Epoch 3/3\n",
      "1250/1250 [==============================] - 779s 623ms/step - loss: 0.1116 - accuracy: 0.9617 - val_loss: 0.1441 - val_accuracy: 0.9506\n"
     ]
    },
    {
     "data": {
      "text/plain": [
       "<keras.src.callbacks.History at 0x7fed4ccb7460>"
      ]
     },
     "execution_count": 6,
     "metadata": {},
     "output_type": "execute_result"
    }
   ],
   "source": [
    "model.fit(\n",
    "    encoded_train, y_train, epochs=3, batch_size=16, \n",
    "    validation_data=(encoded_val, y_val), \n",
    "    callbacks=[early_stopper], verbose=1\n",
    ")"
   ]
  },
  {
   "cell_type": "code",
   "execution_count": 7,
   "id": "cff59d8a-55aa-4eef-a29c-2518b19991e6",
   "metadata": {},
   "outputs": [
    {
     "name": "stdout",
     "output_type": "stream",
     "text": [
      "782/782 [==============================] - 297s 375ms/step\n"
     ]
    }
   ],
   "source": [
    "predictions = model.predict(encoded_test)"
   ]
  },
  {
   "cell_type": "code",
   "execution_count": 29,
   "id": "c5989e84-1231-4a41-a0f2-4d2e803e6503",
   "metadata": {},
   "outputs": [
    {
     "name": "stdout",
     "output_type": "stream",
     "text": [
      "25000\n",
      "25000\n",
      "Test Accuracy: 0.95336\n",
      "              precision    recall  f1-score   support\n",
      "\n",
      "           0       0.97      0.94      0.95     12500\n",
      "           1       0.94      0.97      0.95     12500\n",
      "\n",
      "    accuracy                           0.95     25000\n",
      "   macro avg       0.95      0.95      0.95     25000\n",
      "weighted avg       0.95      0.95      0.95     25000\n"
     ]
    }
   ],
   "source": [
    "logits = predictions.logits\n",
    "print(len(y_test))\n",
    "y_pred = np.argmax(logits, axis=1)\n",
    "print(len(y_pred))\n",
    "test_accuracy = metrics.accuracy_score(y_test, y_pred)\n",
    "print(f\"Test Accuracy: {test_accuracy}\")\n",
    "print(metrics.classification_report(y_test, y_pred))"
   ]
  },
  {
   "cell_type": "code",
   "execution_count": 34,
   "id": "d593d40b-dd16-4790-b16d-7fb809d01f87",
   "metadata": {},
   "outputs": [
    {
     "ename": "NameError",
     "evalue": "name 'model' is not defined",
     "output_type": "error",
     "traceback": [
      "\u001B[0;31m---------------------------------------------------------------------------\u001B[0m",
      "\u001B[0;31mNameError\u001B[0m                                 Traceback (most recent call last)",
      "Cell \u001B[0;32mIn[34], line 3\u001B[0m\n\u001B[1;32m      1\u001B[0m \u001B[38;5;66;03m# Save the weights of the model to a file\u001B[39;00m\n\u001B[1;32m      2\u001B[0m model_save_path \u001B[38;5;241m=\u001B[39m \u001B[38;5;124m'\u001B[39m\u001B[38;5;124mnew_roberta.h5\u001B[39m\u001B[38;5;124m'\u001B[39m\n\u001B[0;32m----> 3\u001B[0m \u001B[43mmodel\u001B[49m\u001B[38;5;241m.\u001B[39msave_weights(model_save_path)\n\u001B[1;32m      4\u001B[0m \u001B[38;5;28mprint\u001B[39m(\u001B[38;5;124mf\u001B[39m\u001B[38;5;124m\"\u001B[39m\u001B[38;5;124mModel weights saved to \u001B[39m\u001B[38;5;132;01m{\u001B[39;00mmodel_save_path\u001B[38;5;132;01m}\u001B[39;00m\u001B[38;5;124m\"\u001B[39m)\n",
      "\u001B[0;31mNameError\u001B[0m: name 'model' is not defined"
     ]
    }
   ],
   "source": [
    "model_save_path = 'new_roberta.h5'\n",
    "model.save_weights(model_save_path)\n",
    "print(f\"Model weights saved to {model_save_path}\")\n"
   ]
  },
  {
   "cell_type": "code",
   "execution_count": null,
   "id": "570f7fa8-26ea-4da8-9af4-0559a984c26b",
   "metadata": {},
   "outputs": [],
   "source": []
  },
  {
   "cell_type": "markdown",
   "id": "4c642b373bc9533c",
   "metadata": {
    "collapsed": false
   },
   "source": [
    "# French BERT"
   ]
  },
  {
   "cell_type": "code",
   "execution_count": 32,
   "id": "17c9eeb57bf030e6",
   "metadata": {
    "ExecuteTime": {
     "end_time": "2023-12-15T14:54:05.125274Z",
     "start_time": "2023-12-15T14:54:05.067831Z"
    },
    "collapsed": false
   },
   "outputs": [],
   "source": [
    "import numpy as np\n",
    "import pandas as pd\n",
    "from transformers import CamembertTokenizer, TFCamembertForSequenceClassification\n",
    "from sklearn.metrics import classification_report\n",
    "from sklearn import metrics\n",
    "import tensorflow as tf\n",
    "assert tf.__version__ >= \"2.0\""
   ]
  },
  {
   "cell_type": "code",
   "execution_count": 7,
   "id": "f50ce2b9-0f79-45dc-8873-75e23229bbf1",
   "metadata": {},
   "outputs": [
    {
     "name": "stderr",
     "output_type": "stream",
     "text": [
      "Special tokens have been added in the vocabulary, make sure the associated word embeddings are fine-tuned or trained.\n",
      "All PyTorch model weights were used when initializing TFCamembertForSequenceClassification.\n",
      "\n",
      "Some weights or buffers of the TF 2.0 model TFCamembertForSequenceClassification were not initialized from the PyTorch model and are newly initialized: ['classifier.dense.weight', 'classifier.dense.bias', 'classifier.out_proj.weight', 'classifier.out_proj.bias']\n",
      "You should probably TRAIN this model on a down-stream task to be able to use it for predictions and inference.\n"
     ]
    }
   ],
   "source": [
    "model_name = \"camembert-base\"\n",
    "tokenizer = CamembertTokenizer.from_pretrained(model_name)\n",
    "model = TFCamembertForSequenceClassification.from_pretrained(\"camembert-base\")\n",
    "\n",
    "train_data = pd.read_csv(\"data/french/data/train.tsv\", delimiter='\\t')\n",
    "val_data = pd.read_csv(\"data/french/data/val.tsv\", delimiter='\\t')\n",
    "test_data = pd.read_csv(\"data/french/data/test.tsv\", delimiter='\\t')\n",
    "\n",
    "train_reviews = train_data['text_a'].tolist()\n",
    "train_labels = train_data['label'].tolist()\n",
    "\n",
    "val_reviews = val_data['text_a'].tolist()\n",
    "val_labels = val_data['label'].tolist()\n",
    "\n",
    "test_reviews = test_data['text_a'].tolist()\n",
    "test_labels = test_data['label'].tolist()"
   ]
  },
  {
   "cell_type": "code",
   "execution_count": 14,
   "id": "4645e837-4301-4667-80ea-94e25eb89b47",
   "metadata": {},
   "outputs": [],
   "source": [
    "from sklearn.base import BaseEstimator, TransformerMixin\n",
    "\n",
    "class CamembertPreprocessor(BaseEstimator, TransformerMixin):\n",
    "    def __init__(self, tokenizer, max_seq_length):\n",
    "        self.tokenizer = tokenizer\n",
    "        self.max_seq_length = max_seq_length\n",
    "\n",
    "    def transform(self, X, y):\n",
    "        X_encoded = self.encode_reviews(self.tokenizer, X, self.max_seq_length)\n",
    "        y_array = np.array(y)\n",
    "        return X_encoded, y_array \n",
    "\n",
    "    def encode_reviews(self, tokenizer, reviews, max_length):\n",
    "        token_ids = np.zeros(shape=(len(reviews), max_length), dtype=np.int32)\n",
    "        for i, review in enumerate(reviews):\n",
    "            encoded = tokenizer.encode(review, max_length=max_length)\n",
    "            token_ids[i, 0:len(encoded)] = encoded\n",
    "        attention_mask = (token_ids != 0).astype(np.int32)\n",
    "        return {\"input_ids\": token_ids, \"attention_mask\": attention_mask}"
   ]
  },
  {
   "cell_type": "code",
   "execution_count": 16,
   "id": "71599bd9-8fd9-4eb0-a737-e5a0e5024af0",
   "metadata": {},
   "outputs": [],
   "source": [
    "opt = tf.keras.optimizers.Adam(learning_rate=5e-6, epsilon=1e-08)\n",
    "loss_fn = tf.keras.losses.SparseCategoricalCrossentropy(from_logits=True)    \n",
    "model.compile(optimizer=opt, loss=loss_fn, metrics=['accuracy'])"
   ]
  },
  {
   "cell_type": "code",
   "execution_count": 17,
   "id": "6f440b0e-e31f-455c-b6bc-5f945efc835a",
   "metadata": {},
   "outputs": [
    {
     "name": "stderr",
     "output_type": "stream",
     "text": [
      "2023-12-16 09:00:06.970215: I external/local_xla/xla/service/service.cc:168] XLA service 0x55e8aac23b40 initialized for platform CUDA (this does not guarantee that XLA will be used). Devices:\n",
      "2023-12-16 09:00:06.970258: I external/local_xla/xla/service/service.cc:176]   StreamExecutor device (0): Tesla V100-SXM2-16GB, Compute Capability 7.0\n",
      "2023-12-16 09:00:06.996611: I tensorflow/compiler/mlir/tensorflow/utils/dump_mlir_util.cc:269] disabling MLIR crash reproducer, set env var `MLIR_CRASH_REPRODUCER_DIRECTORY` to enable.\n",
      "2023-12-16 09:00:07.053555: I external/local_xla/xla/stream_executor/cuda/cuda_dnn.cc:454] Loaded cuDNN version 8903\n",
      "WARNING: All log messages before absl::InitializeLog() is called are written to STDERR\n",
      "I0000 00:00:1702717207.177242   19244 device_compiler.h:186] Compiled cluster using XLA!  This line is logged at most once for the lifetime of the process.\n"
     ]
    },
    {
     "name": "stdout",
     "output_type": "stream",
     "text": [
      "39991/39991 [==============================] - 6023s 149ms/step - loss: 0.1080 - accuracy: 0.9606 - val_loss: 0.0791 - val_accuracy: 0.9714\n"
     ]
    },
    {
     "data": {
      "text/plain": [
       "<keras.src.callbacks.History at 0x7f918fa24760>"
      ]
     },
     "execution_count": 17,
     "metadata": {},
     "output_type": "execute_result"
    }
   ],
   "source": [
    "MAX_SEQ_LEN = 400\n",
    "preprocessor = CamembertPreprocessor(tokenizer, MAX_SEQ_LEN)\n",
    "encoded_train, y_train = preprocessor.transform(train_reviews, train_labels)\n",
    "encoded_valid, y_val = preprocessor.transform(val_reviews, val_labels)\n",
    "encoded_test, y_test = preprocessor.transform(test_reviews, test_labels)\n",
    "\n",
    "early_stopper = tf.keras.callbacks.EarlyStopping(\n",
    "    monitor='val_loss', patience=2, verbose=1, restore_best_weights=True\n",
    ")\n",
    "model.fit(\n",
    "    encoded_train, y_train, epochs=1, batch_size=4, \n",
    "    validation_data=(encoded_valid, y_val), \n",
    "    callbacks=[early_stopper], verbose=1\n",
    ")"
   ]
  },
  {
   "cell_type": "code",
   "execution_count": 26,
   "id": "5a06e57e-7852-4772-8619-ddce6398ec34",
   "metadata": {},
   "outputs": [
    {
     "name": "stdout",
     "output_type": "stream",
     "text": [
      "625/625 [==============================] - 182s 291ms/step\n"
     ]
    }
   ],
   "source": [
    "predictions = model.predict(encoded_test)"
   ]
  },
  {
   "cell_type": "code",
   "execution_count": 33,
   "id": "e0b8772b-c88d-4404-b290-8ed4faf73b68",
   "metadata": {},
   "outputs": [
    {
     "name": "stdout",
     "output_type": "stream",
     "text": [
      "(19992, 2)\n",
      "Test Accuracy: 0.9718387354941976\n"
     ]
    }
   ],
   "source": [
    "logits = predictions.logits\n",
    "print(logits.shape)\n",
    "y_pred = np.argmax(logits, axis=1)\n",
    "test_accuracy = metrics.accuracy_score(y_test, y_pred)\n",
    "print(f\"Test Accuracy: {test_accuracy}\")"
   ]
  },
  {
   "cell_type": "code",
   "execution_count": 35,
   "id": "7ada7011-e5a6-45de-b34b-22fa09ce1553",
   "metadata": {},
   "outputs": [
    {
     "name": "stdout",
     "output_type": "stream",
     "text": [
      "              precision    recall  f1-score   support\n",
      "\n",
      "           0       0.97      0.98      0.97     10403\n",
      "           1       0.98      0.96      0.97      9589\n",
      "\n",
      "    accuracy                           0.97     19992\n",
      "   macro avg       0.97      0.97      0.97     19992\n",
      "weighted avg       0.97      0.97      0.97     19992\n"
     ]
    }
   ],
   "source": [
    "print(classification_report(y_test, y_pred))"
   ]
  },
  {
   "cell_type": "code",
   "execution_count": null,
   "id": "6eaa46bd-d4c5-42b9-8bca-7b6efd653b4a",
   "metadata": {},
   "outputs": [],
   "source": [
    "model.save_weights(new_camembert.h5)"
   ]
  },
  {
   "cell_type": "code",
   "execution_count": null,
   "id": "bb9218d7-bfca-45f4-881b-c8b6e77d2a6d",
   "metadata": {},
   "outputs": [],
   "source": []
  },
  {
   "cell_type": "markdown",
   "id": "92b2a65b165bb1a2",
   "metadata": {
    "collapsed": false
   },
   "source": [
    "# Chinese BERT"
   ]
  },
  {
   "cell_type": "code",
   "execution_count": 2,
   "id": "acbe06db91b8dde2",
   "metadata": {
    "ExecuteTime": {
     "end_time": "2023-12-15T17:53:52.848045Z",
     "start_time": "2023-12-15T17:53:52.816340Z"
    },
    "collapsed": false
   },
   "outputs": [],
   "source": [
    "import numpy as np\n",
    "import pandas as pd\n",
    "from transformers import BertTokenizer, TFBertForSequenceClassification"
   ]
  },
  {
   "cell_type": "code",
   "execution_count": 3,
   "id": "bfb994e6-08b7-4744-b4d0-4ce900dc8e28",
   "metadata": {},
   "outputs": [
    {
     "name": "stderr",
     "output_type": "stream",
     "text": [
      "2023-12-16 13:57:04.221596: I external/local_xla/xla/stream_executor/cuda/cuda_executor.cc:901] successful NUMA node read from SysFS had negative value (-1), but there must be at least one NUMA node, so returning NUMA node zero. See more at https://github.com/torvalds/linux/blob/v6.0/Documentation/ABI/testing/sysfs-bus-pci#L344-L355\n",
      "2023-12-16 13:57:04.223000: I external/local_xla/xla/stream_executor/cuda/cuda_executor.cc:901] successful NUMA node read from SysFS had negative value (-1), but there must be at least one NUMA node, so returning NUMA node zero. See more at https://github.com/torvalds/linux/blob/v6.0/Documentation/ABI/testing/sysfs-bus-pci#L344-L355\n",
      "2023-12-16 13:57:04.223186: I external/local_xla/xla/stream_executor/cuda/cuda_executor.cc:901] successful NUMA node read from SysFS had negative value (-1), but there must be at least one NUMA node, so returning NUMA node zero. See more at https://github.com/torvalds/linux/blob/v6.0/Documentation/ABI/testing/sysfs-bus-pci#L344-L355\n",
      "2023-12-16 13:57:04.224115: I external/local_xla/xla/stream_executor/cuda/cuda_executor.cc:901] successful NUMA node read from SysFS had negative value (-1), but there must be at least one NUMA node, so returning NUMA node zero. See more at https://github.com/torvalds/linux/blob/v6.0/Documentation/ABI/testing/sysfs-bus-pci#L344-L355\n",
      "2023-12-16 13:57:04.224301: I external/local_xla/xla/stream_executor/cuda/cuda_executor.cc:901] successful NUMA node read from SysFS had negative value (-1), but there must be at least one NUMA node, so returning NUMA node zero. See more at https://github.com/torvalds/linux/blob/v6.0/Documentation/ABI/testing/sysfs-bus-pci#L344-L355\n",
      "2023-12-16 13:57:04.224465: I external/local_xla/xla/stream_executor/cuda/cuda_executor.cc:901] successful NUMA node read from SysFS had negative value (-1), but there must be at least one NUMA node, so returning NUMA node zero. See more at https://github.com/torvalds/linux/blob/v6.0/Documentation/ABI/testing/sysfs-bus-pci#L344-L355\n",
      "2023-12-16 13:57:04.433372: I external/local_xla/xla/stream_executor/cuda/cuda_executor.cc:901] successful NUMA node read from SysFS had negative value (-1), but there must be at least one NUMA node, so returning NUMA node zero. See more at https://github.com/torvalds/linux/blob/v6.0/Documentation/ABI/testing/sysfs-bus-pci#L344-L355\n",
      "2023-12-16 13:57:04.433597: I external/local_xla/xla/stream_executor/cuda/cuda_executor.cc:901] successful NUMA node read from SysFS had negative value (-1), but there must be at least one NUMA node, so returning NUMA node zero. See more at https://github.com/torvalds/linux/blob/v6.0/Documentation/ABI/testing/sysfs-bus-pci#L344-L355\n",
      "2023-12-16 13:57:04.433833: I external/local_xla/xla/stream_executor/cuda/cuda_executor.cc:901] successful NUMA node read from SysFS had negative value (-1), but there must be at least one NUMA node, so returning NUMA node zero. See more at https://github.com/torvalds/linux/blob/v6.0/Documentation/ABI/testing/sysfs-bus-pci#L344-L355\n",
      "2023-12-16 13:57:04.433974: I tensorflow/core/common_runtime/gpu/gpu_device.cc:1929] Created device /job:localhost/replica:0/task:0/device:GPU:0 with 14787 MB memory:  -> device: 0, name: Tesla V100-SXM2-16GB, pci bus id: 0000:00:1e.0, compute capability: 7.0\n",
      "All PyTorch model weights were used when initializing TFBertForSequenceClassification.\n",
      "\n",
      "Some weights or buffers of the TF 2.0 model TFBertForSequenceClassification were not initialized from the PyTorch model and are newly initialized: ['classifier.weight', 'classifier.bias']\n",
      "You should probably TRAIN this model on a down-stream task to be able to use it for predictions and inference.\n"
     ]
    }
   ],
   "source": [
    "from sklearn.base import BaseEstimator, TransformerMixin\n",
    "\n",
    "model_name = 'bert-base-chinese'\n",
    "tokenizer = BertTokenizer.from_pretrained(model_name)\n",
    "model = TFBertForSequenceClassification.from_pretrained(model_name, num_labels=2)\n",
    "\n",
    "train_data = pd.read_csv(\"data/chinese/chnsenticorp-main/train.tsv\", delimiter='\\t')\n",
    "val_data = pd.read_csv(\"data/chinese/chnsenticorp-main/dev.tsv\", delimiter='\\t')\n",
    "test_data = pd.read_csv(\"data/chinese/chnsenticorp-main/test.tsv\", delimiter='\\t')\n",
    "\n",
    "train_texts = train_data['text_a'].tolist()\n",
    "train_labels = train_data['label'].tolist()\n",
    "val_texts = val_data['text_a'].tolist()\n",
    "val_labels = val_data['label'].tolist()\n",
    "test_texts = test_data['text_a'].tolist()\n",
    "test_labels = test_data['label'].tolist()"
   ]
  },
  {
   "cell_type": "code",
   "execution_count": 4,
   "id": "314bddea-5f27-4b7e-bdf1-3617800f4767",
   "metadata": {},
   "outputs": [],
   "source": [
    "class BertPreprocessor(BaseEstimator, TransformerMixin):\n",
    "    def __init__(self, tokenizer, max_seq_length):\n",
    "        self.tokenizer = tokenizer\n",
    "        self.max_seq_length = max_seq_length\n",
    "\n",
    "    def transform(self, X, y):\n",
    "        X_encoded = self.encode_texts(X)\n",
    "        y_array = np.array(y)\n",
    "\n",
    "        input_ids = tf.convert_to_tensor(X_encoded['input_ids'], dtype=tf.int32)\n",
    "        attention_mask = tf.convert_to_tensor(X_encoded['attention_mask'], dtype=tf.int32)\n",
    "        token_type_ids = tf.convert_to_tensor(X_encoded['token_type_ids'], dtype=tf.int32)  \n",
    "        y_tensor = tf.convert_to_tensor(y_array, dtype=tf.int64)\n",
    "\n",
    "        return {\"input_ids\": input_ids, \"attention_mask\": attention_mask, \"token_type_ids\": token_type_ids}, y_tensor\n",
    "\n",
    "    def encode_texts(self, texts):\n",
    "        return self.tokenizer(texts, padding='max_length', truncation=True, max_length=self.max_seq_length, return_tensors=\"tf\")"
   ]
  },
  {
   "cell_type": "code",
   "execution_count": 5,
   "id": "0a3f4a56-8a25-47ec-b3dd-3f483a8959d4",
   "metadata": {},
   "outputs": [],
   "source": [
    "MAX_SEQ_LEN = 512\n",
    "preprocessor = BertPreprocessor(tokenizer, MAX_SEQ_LEN)\n",
    "encoded_train, y_train = preprocessor.transform(train_texts, train_labels)\n",
    "encoded_valid, y_val = preprocessor.transform(val_texts, val_labels)\n",
    "encoded_test, y_test = preprocessor.transform(test_texts, test_labels)\n",
    "\n",
    "opt = tf.keras.optimizers.Adam(learning_rate=5e-6, epsilon=1e-12)\n",
    "loss_fn = tf.keras.losses.SparseCategoricalCrossentropy(from_logits=True)    \n",
    "model.compile(optimizer=opt, loss=loss_fn, metrics=['accuracy'])"
   ]
  },
  {
   "cell_type": "code",
   "execution_count": 6,
   "id": "7e4498ba-1f89-4201-9d7f-bf867158bcbe",
   "metadata": {},
   "outputs": [
    {
     "name": "stdout",
     "output_type": "stream",
     "text": [
      "Epoch 1/3\n"
     ]
    },
    {
     "name": "stderr",
     "output_type": "stream",
     "text": [
      "2023-12-16 13:57:50.193204: I external/local_xla/xla/service/service.cc:168] XLA service 0x7f86182e27c0 initialized for platform CUDA (this does not guarantee that XLA will be used). Devices:\n",
      "2023-12-16 13:57:50.193265: I external/local_xla/xla/service/service.cc:176]   StreamExecutor device (0): Tesla V100-SXM2-16GB, Compute Capability 7.0\n",
      "2023-12-16 13:57:50.201969: I tensorflow/compiler/mlir/tensorflow/utils/dump_mlir_util.cc:269] disabling MLIR crash reproducer, set env var `MLIR_CRASH_REPRODUCER_DIRECTORY` to enable.\n",
      "2023-12-16 13:57:50.223779: I external/local_xla/xla/stream_executor/cuda/cuda_dnn.cc:454] Loaded cuDNN version 8903\n",
      "WARNING: All log messages before absl::InitializeLog() is called are written to STDERR\n",
      "I0000 00:00:1702735070.344070   33095 device_compiler.h:186] Compiled cluster using XLA!  This line is logged at most once for the lifetime of the process.\n"
     ]
    },
    {
     "name": "stdout",
     "output_type": "stream",
     "text": [
      "572/572 [==============================] - 404s 622ms/step - loss: 0.2901 - accuracy: 0.8862 - val_loss: 0.1939 - val_accuracy: 0.9225\n",
      "Epoch 2/3\n",
      "572/572 [==============================] - 353s 617ms/step - loss: 0.1535 - accuracy: 0.9473 - val_loss: 0.1880 - val_accuracy: 0.9400\n",
      "Epoch 3/3\n",
      "572/572 [==============================] - 353s 617ms/step - loss: 0.1072 - accuracy: 0.9644 - val_loss: 0.1803 - val_accuracy: 0.9383\n"
     ]
    },
    {
     "data": {
      "text/plain": [
       "<keras.src.callbacks.History at 0x7f86a86398e0>"
      ]
     },
     "execution_count": 6,
     "metadata": {},
     "output_type": "execute_result"
    }
   ],
   "source": [
    "early_stopper = tf.keras.callbacks.EarlyStopping(monitor='val_loss', patience=2, verbose=1, restore_best_weights=True)\n",
    "model.fit(encoded_train, y_train, epochs=3, batch_size=16, validation_data=(encoded_valid, y_val), callbacks=[early_stopper], verbose=1)"
   ]
  },
  {
   "cell_type": "code",
   "execution_count": 7,
   "id": "d77e94f8-d656-46e5-a79e-eda0db5b0d2e",
   "metadata": {},
   "outputs": [
    {
     "name": "stdout",
     "output_type": "stream",
     "text": [
      "38/38 [==============================] - 17s 375ms/step\n"
     ]
    }
   ],
   "source": [
    "predictions = model.predict(encoded_test)"
   ]
  },
  {
   "cell_type": "code",
   "execution_count": 8,
   "id": "3ff2fc29-75d0-4c04-8ab4-3a05aca12a8f",
   "metadata": {},
   "outputs": [
    {
     "name": "stdout",
     "output_type": "stream",
     "text": [
      "Test Accuracy: 0.9433333333333334\n",
      "              precision    recall  f1-score   support\n",
      "\n",
      "           0       0.96      0.92      0.94       598\n",
      "           1       0.93      0.96      0.94       602\n",
      "\n",
      "    accuracy                           0.94      1200\n",
      "   macro avg       0.94      0.94      0.94      1200\n",
      "weighted avg       0.94      0.94      0.94      1200\n"
     ]
    }
   ],
   "source": [
    "logits = predictions.logits\n",
    "y_pred = np.argmax(logits, axis=1)\n",
    "test_accuracy = metrics.accuracy_score(y_test, y_pred)\n",
    "print(f\"Test Accuracy: {test_accuracy}\")\n",
    "print(metrics.classification_report(y_test, y_pred))"
   ]
  },
  {
   "cell_type": "code",
   "execution_count": 10,
   "id": "8054749b-e7de-4f44-b195-021a7ddcaf01",
   "metadata": {},
   "outputs": [
    {
     "name": "stdout",
     "output_type": "stream",
     "text": [
      "Model weights saved to new_bert_cn.h5\n"
     ]
    }
   ],
   "source": [
    "model_save_path = 'new_bert_cn.h5'\n",
    "model.save_weights(model_save_path)\n",
    "print(f\"Model weights saved to {model_save_path}\")"
   ]
  },
  {
   "cell_type": "code",
   "execution_count": null,
   "id": "bc806019-bb0c-4cdb-9c70-e40dda2c6168",
   "metadata": {},
   "outputs": [],
   "source": []
  },
  {
   "cell_type": "code",
   "execution_count": null,
   "id": "2d8ed849-219c-4a2e-9dad-050822f2b0f5",
   "metadata": {},
   "outputs": [],
   "source": []
  }
 ],
 "metadata": {
  "kernelspec": {
   "display_name": "Python 3 (ipykernel)",
   "language": "python",
   "name": "python3"
  },
  "language_info": {
   "codemirror_mode": {
    "name": "ipython",
    "version": 3
   },
   "file_extension": ".py",
   "mimetype": "text/x-python",
   "name": "python",
   "nbconvert_exporter": "python",
   "pygments_lexer": "ipython3",
   "version": "3.9.16"
  }
 },
 "nbformat": 4,
 "nbformat_minor": 5
}
