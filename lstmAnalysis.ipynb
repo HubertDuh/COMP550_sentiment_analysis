{
 "cells": [
  {
   "cell_type": "markdown",
   "source": [
    "# LSTM English Model"
   ],
   "metadata": {
    "collapsed": false
   },
   "id": "f4fdcac55de8e19b"
  },
  {
   "cell_type": "code",
   "execution_count": 2,
   "outputs": [],
   "source": [
    "from nltk.corpus import stopwords\n",
    "from nltk.tokenize import word_tokenize\n",
    "import pandas as pd\n",
    "import numpy as np\n",
    "import tensorflow as tf\n",
    "from keras_preprocessing.text import Tokenizer\n",
    "from keras_preprocessing.sequence import pad_sequences\n",
    "from keras.models import Sequential\n",
    "from keras.layers import Embedding, LSTM, Dense, Dropout, Bidirectional\n",
    "from sklearn.model_selection import train_test_split\n",
    "import re\n",
    "import random as rn\n",
    "import torch\n",
    "from sklearn.metrics import f1_score\n",
    "\n",
    "rn.seed(1349)\n",
    "np.random.seed(1349)\n",
    "torch.manual_seed(1349)\n",
    "torch.cuda.manual_seed(1349)"
   ],
   "metadata": {
    "collapsed": false,
    "ExecuteTime": {
     "end_time": "2023-12-16T04:58:16.465422Z",
     "start_time": "2023-12-16T04:58:16.299117Z"
    }
   },
   "id": "1df987a6e4e36965"
  },
  {
   "cell_type": "code",
   "execution_count": 3,
   "id": "initial_id",
   "metadata": {
    "collapsed": true,
    "ExecuteTime": {
     "end_time": "2023-12-16T05:00:05.013270Z",
     "start_time": "2023-12-16T04:58:16.315092Z"
    }
   },
   "outputs": [],
   "source": [
    "train_df = pd.read_csv(\"data/english/aclImdb/train.tsv\", delimiter='\\t', encoding='utf-8')\n",
    "test_df = pd.read_csv(\"data/english/aclImdb/train.tsv\", delimiter='\\t', encoding='utf-8')\n",
    "\n",
    "stop_words = set(stopwords.words('english'))\n",
    "\n",
    "def clean_text(text):\n",
    "    text = text.lower()\n",
    "    text = re.sub(r'<.*?>', '', text)\n",
    "    words = word_tokenize(text)\n",
    "    words = [word for word in words if word.isalpha() and word not in stop_words]\n",
    "    return ' '.join(words)\n",
    "\n",
    "train_df['text_a'] = train_df['text_a'].apply(clean_text)\n",
    "test_df['text_a'] = test_df['text_a'].apply(clean_text)\n",
    "\n",
    "X_train = train_df['text_a']\n",
    "y_train = train_df['label']\n",
    "\n",
    "X_test = test_df['text_a']\n",
    "y_test = test_df['label']"
   ]
  },
  {
   "cell_type": "code",
   "execution_count": 4,
   "outputs": [],
   "source": [
    "X_train = X_train.astype(str).tolist()\n",
    "X_test = X_test.astype(str).tolist()\n",
    "\n",
    "tokenizer = Tokenizer(num_words=5000)\n",
    "tokenizer.fit_on_texts(X_train)\n",
    "\n",
    "X_train = tokenizer.texts_to_sequences(X_train)\n",
    "X_test = tokenizer.texts_to_sequences(X_test)\n",
    "\n",
    "maxlen = 200\n",
    "X_train = pad_sequences(X_train, padding='post', maxlen=maxlen)\n",
    "X_test = pad_sequences(X_test, padding='post', maxlen=maxlen)\n"
   ],
   "metadata": {
    "collapsed": false,
    "ExecuteTime": {
     "end_time": "2023-12-16T05:00:17.427468Z",
     "start_time": "2023-12-16T05:00:05.018954Z"
    }
   },
   "id": "87b4b7fa343ced93"
  },
  {
   "cell_type": "code",
   "execution_count": 5,
   "outputs": [
    {
     "name": "stdout",
     "output_type": "stream",
     "text": [
      "Epoch 1/10\n",
      "\u001B[1m704/704\u001B[0m \u001B[32m━━━━━━━━━━━━━━━━━━━━\u001B[0m\u001B[37m\u001B[0m \u001B[1m528s\u001B[0m 741ms/step - accuracy: 0.5562 - loss: 0.6879 - val_accuracy: 0.0260 - val_loss: 0.9013\n",
      "Epoch 2/10\n",
      "\u001B[1m704/704\u001B[0m \u001B[32m━━━━━━━━━━━━━━━━━━━━\u001B[0m\u001B[37m\u001B[0m \u001B[1m382s\u001B[0m 543ms/step - accuracy: 0.5813 - loss: 0.6802 - val_accuracy: 0.0552 - val_loss: 0.9081\n",
      "Epoch 3/10\n",
      "\u001B[1m704/704\u001B[0m \u001B[32m━━━━━━━━━━━━━━━━━━━━\u001B[0m\u001B[37m\u001B[0m \u001B[1m420s\u001B[0m 597ms/step - accuracy: 0.5720 - loss: 0.6587 - val_accuracy: 0.0552 - val_loss: 0.8578\n",
      "Epoch 4/10\n",
      "\u001B[1m704/704\u001B[0m \u001B[32m━━━━━━━━━━━━━━━━━━━━\u001B[0m\u001B[37m\u001B[0m \u001B[1m424s\u001B[0m 602ms/step - accuracy: 0.6385 - loss: 0.6017 - val_accuracy: 0.8136 - val_loss: 0.5295\n",
      "Epoch 5/10\n",
      "\u001B[1m704/704\u001B[0m \u001B[32m━━━━━━━━━━━━━━━━━━━━\u001B[0m\u001B[37m\u001B[0m \u001B[1m297s\u001B[0m 422ms/step - accuracy: 0.8640 - loss: 0.3404 - val_accuracy: 0.7768 - val_loss: 0.5305\n",
      "Epoch 6/10\n",
      "\u001B[1m704/704\u001B[0m \u001B[32m━━━━━━━━━━━━━━━━━━━━\u001B[0m\u001B[37m\u001B[0m \u001B[1m311s\u001B[0m 442ms/step - accuracy: 0.9115 - loss: 0.2457 - val_accuracy: 0.7452 - val_loss: 0.6844\n",
      "Epoch 7/10\n",
      "\u001B[1m704/704\u001B[0m \u001B[32m━━━━━━━━━━━━━━━━━━━━\u001B[0m\u001B[37m\u001B[0m \u001B[1m225s\u001B[0m 319ms/step - accuracy: 0.9341 - loss: 0.1896 - val_accuracy: 0.8216 - val_loss: 0.4408\n",
      "Epoch 8/10\n",
      "\u001B[1m704/704\u001B[0m \u001B[32m━━━━━━━━━━━━━━━━━━━━\u001B[0m\u001B[37m\u001B[0m \u001B[1m218s\u001B[0m 309ms/step - accuracy: 0.9543 - loss: 0.1424 - val_accuracy: 0.8160 - val_loss: 0.5549\n",
      "Epoch 9/10\n",
      "\u001B[1m704/704\u001B[0m \u001B[32m━━━━━━━━━━━━━━━━━━━━\u001B[0m\u001B[37m\u001B[0m \u001B[1m231s\u001B[0m 328ms/step - accuracy: 0.9652 - loss: 0.1156 - val_accuracy: 0.7940 - val_loss: 0.6865\n",
      "Epoch 10/10\n",
      "\u001B[1m704/704\u001B[0m \u001B[32m━━━━━━━━━━━━━━━━━━━━\u001B[0m\u001B[37m\u001B[0m \u001B[1m224s\u001B[0m 318ms/step - accuracy: 0.9730 - loss: 0.0956 - val_accuracy: 0.7960 - val_loss: 0.6445\n",
      "\u001B[1m782/782\u001B[0m \u001B[32m━━━━━━━━━━━━━━━━━━━━\u001B[0m\u001B[37m\u001B[0m \u001B[1m146s\u001B[0m 187ms/step - accuracy: 0.9862 - loss: 0.0608\n",
      "Test Accuracy: 0.9664000272750854\n"
     ]
    }
   ],
   "source": [
    "model = Sequential()\n",
    "model.add(Embedding(input_dim=5000, output_dim=100))\n",
    "model.add(LSTM(128))\n",
    "model.add(Dropout(0.2))\n",
    "model.add(Dense(1, activation='sigmoid'))\n",
    "\n",
    "model.compile(optimizer='adam', loss='binary_crossentropy', metrics=['accuracy'])\n",
    "\n",
    "model.fit(X_train, y_train, batch_size=32, epochs=10, validation_split=0.1)\n",
    "\n",
    "loss, accuracy = model.evaluate(X_test, y_test)\n",
    "print(\"Test Accuracy:\", accuracy)"
   ],
   "metadata": {
    "collapsed": false,
    "ExecuteTime": {
     "end_time": "2023-12-16T05:57:03.280145Z",
     "start_time": "2023-12-16T05:00:17.513850Z"
    }
   },
   "id": "dd035b826bab698d"
  },
  {
   "cell_type": "code",
   "execution_count": 6,
   "outputs": [
    {
     "name": "stdout",
     "output_type": "stream",
     "text": [
      "\u001B[1m782/782\u001B[0m \u001B[32m━━━━━━━━━━━━━━━━━━━━\u001B[0m\u001B[37m\u001B[0m \u001B[1m142s\u001B[0m 181ms/step\n",
      "Test F1 Score: 0.9656638325703075\n"
     ]
    }
   ],
   "source": [
    "y_pred = model.predict(X_test)\n",
    "y_pred_binary = [1 if val > 0.5 else 0 for val in y_pred]\n",
    "\n",
    "f1 = f1_score(y_test, y_pred_binary)\n",
    "\n",
    "print(\"Test F1 Score:\", f1)"
   ],
   "metadata": {
    "collapsed": false,
    "ExecuteTime": {
     "end_time": "2023-12-16T05:59:25.541548Z",
     "start_time": "2023-12-16T05:57:03.295247Z"
    }
   },
   "id": "59fc3e4cb3d1b6b"
  },
  {
   "cell_type": "code",
   "execution_count": 7,
   "outputs": [
    {
     "name": "stdout",
     "output_type": "stream",
     "text": [
      "Epoch 1/10\n",
      "\u001B[1m704/704\u001B[0m \u001B[32m━━━━━━━━━━━━━━━━━━━━\u001B[0m\u001B[37m\u001B[0m \u001B[1m210s\u001B[0m 294ms/step - accuracy: 0.7403 - loss: 0.4985 - val_accuracy: 0.8572 - val_loss: 0.3166\n",
      "Epoch 2/10\n",
      "\u001B[1m704/704\u001B[0m \u001B[32m━━━━━━━━━━━━━━━━━━━━\u001B[0m\u001B[37m\u001B[0m \u001B[1m250s\u001B[0m 355ms/step - accuracy: 0.8938 - loss: 0.2717 - val_accuracy: 0.7740 - val_loss: 0.6986\n",
      "Epoch 3/10\n",
      "\u001B[1m704/704\u001B[0m \u001B[32m━━━━━━━━━━━━━━━━━━━━\u001B[0m\u001B[37m\u001B[0m \u001B[1m247s\u001B[0m 350ms/step - accuracy: 0.8460 - loss: 0.3647 - val_accuracy: 0.7904 - val_loss: 0.4148\n",
      "Epoch 4/10\n",
      "\u001B[1m704/704\u001B[0m \u001B[32m━━━━━━━━━━━━━━━━━━━━\u001B[0m\u001B[37m\u001B[0m \u001B[1m247s\u001B[0m 351ms/step - accuracy: 0.9088 - loss: 0.2364 - val_accuracy: 0.8316 - val_loss: 0.4406\n",
      "Epoch 5/10\n",
      "\u001B[1m704/704\u001B[0m \u001B[32m━━━━━━━━━━━━━━━━━━━━\u001B[0m\u001B[37m\u001B[0m \u001B[1m242s\u001B[0m 344ms/step - accuracy: 0.9292 - loss: 0.1937 - val_accuracy: 0.8248 - val_loss: 0.4232\n",
      "Epoch 6/10\n",
      "\u001B[1m704/704\u001B[0m \u001B[32m━━━━━━━━━━━━━━━━━━━━\u001B[0m\u001B[37m\u001B[0m \u001B[1m246s\u001B[0m 350ms/step - accuracy: 0.9448 - loss: 0.1558 - val_accuracy: 0.7624 - val_loss: 0.6079\n",
      "Epoch 7/10\n",
      "\u001B[1m704/704\u001B[0m \u001B[32m━━━━━━━━━━━━━━━━━━━━\u001B[0m\u001B[37m\u001B[0m \u001B[1m253s\u001B[0m 359ms/step - accuracy: 0.9256 - loss: 0.1958 - val_accuracy: 0.8004 - val_loss: 0.5303\n",
      "Epoch 8/10\n",
      "\u001B[1m704/704\u001B[0m \u001B[32m━━━━━━━━━━━━━━━━━━━━\u001B[0m\u001B[37m\u001B[0m \u001B[1m254s\u001B[0m 360ms/step - accuracy: 0.9566 - loss: 0.1211 - val_accuracy: 0.8692 - val_loss: 0.3645\n",
      "Epoch 9/10\n",
      "\u001B[1m704/704\u001B[0m \u001B[32m━━━━━━━━━━━━━━━━━━━━\u001B[0m\u001B[37m\u001B[0m \u001B[1m237s\u001B[0m 337ms/step - accuracy: 0.9659 - loss: 0.0994 - val_accuracy: 0.7980 - val_loss: 0.7003\n",
      "Epoch 10/10\n",
      "\u001B[1m704/704\u001B[0m \u001B[32m━━━━━━━━━━━━━━━━━━━━\u001B[0m\u001B[37m\u001B[0m \u001B[1m229s\u001B[0m 325ms/step - accuracy: 0.9726 - loss: 0.0845 - val_accuracy: 0.8192 - val_loss: 0.5824\n",
      "\u001B[1m782/782\u001B[0m \u001B[32m━━━━━━━━━━━━━━━━━━━━\u001B[0m\u001B[37m\u001B[0m \u001B[1m130s\u001B[0m 167ms/step - accuracy: 0.9852 - loss: 0.0543\n",
      "Test Accuracy: 0.9667199850082397\n"
     ]
    }
   ],
   "source": [
    "from keras.layers import Bidirectional\n",
    "\n",
    "model = Sequential()\n",
    "model.add(Embedding(input_dim=5000, output_dim=100))\n",
    "model.add(Bidirectional(LSTM(128)))\n",
    "model.add(Dropout(0.2))\n",
    "model.add(Dense(1, activation='sigmoid'))\n",
    "\n",
    "model.compile(optimizer='adam', loss='binary_crossentropy', metrics=['accuracy'])\n",
    "\n",
    "model.fit(X_train, y_train, batch_size=32, epochs=10, validation_split=0.1)\n",
    "\n",
    "loss, accuracy = model.evaluate(X_test, y_test)\n",
    "print(\"Test Accuracy:\", accuracy)"
   ],
   "metadata": {
    "collapsed": false,
    "ExecuteTime": {
     "end_time": "2023-12-16T06:41:50.588141Z",
     "start_time": "2023-12-16T05:59:25.548185Z"
    }
   },
   "id": "650e7879b046c42b"
  },
  {
   "cell_type": "code",
   "execution_count": 8,
   "outputs": [
    {
     "name": "stdout",
     "output_type": "stream",
     "text": [
      "\u001B[1m782/782\u001B[0m \u001B[32m━━━━━━━━━━━━━━━━━━━━\u001B[0m\u001B[37m\u001B[0m \u001B[1m136s\u001B[0m 174ms/step\n",
      "Test F1 Score: 0.9660158483784004\n"
     ]
    }
   ],
   "source": [
    "y_pred = model.predict(X_test)\n",
    "y_pred_binary = [1 if val > 0.5 else 0 for val in y_pred]\n",
    "\n",
    "f1 = f1_score(y_test, y_pred_binary)\n",
    "\n",
    "print(\"Test F1 Score:\", f1)"
   ],
   "metadata": {
    "collapsed": false,
    "ExecuteTime": {
     "end_time": "2023-12-16T06:44:07.113520Z",
     "start_time": "2023-12-16T06:41:50.591508Z"
    }
   },
   "id": "2db7a8237a38028d"
  },
  {
   "cell_type": "markdown",
   "source": [
    "# LSTM French Model"
   ],
   "metadata": {
    "collapsed": false
   },
   "id": "1d4ec51d0ed13c7c"
  },
  {
   "cell_type": "code",
   "execution_count": 9,
   "outputs": [],
   "source": [
    "train_df = pd.read_csv(\"data/french/data/train.tsv\", delimiter='\\t', encoding='utf-8')\n",
    "test_df = pd.read_csv(\"data/french/data/train.tsv\", delimiter='\\t', encoding='utf-8')\n",
    "val_df = pd.read_csv(\"data/french/data/val.tsv\", delimiter='\\t', encoding='utf-8')\n",
    "\n",
    "stop_words = set(stopwords.words('french'))\n",
    "\n",
    "def clean_text(text):\n",
    "    text = text.lower()\n",
    "    words = word_tokenize(text)\n",
    "    words = [word for word in words if word.isalpha() and word not in stop_words]\n",
    "    return ' '.join(words)\n",
    "\n",
    "train_df['text_a'] = train_df['text_a'].apply(clean_text)\n",
    "test_df['text_a'] = test_df['text_a'].apply(clean_text)\n",
    "val_df['text_a'] = val_df['text_a'].apply(clean_text)"
   ],
   "metadata": {
    "collapsed": false,
    "ExecuteTime": {
     "end_time": "2023-12-16T06:47:02.113374Z",
     "start_time": "2023-12-16T06:44:07.117150Z"
    }
   },
   "id": "80f9513b4b81ec15"
  },
  {
   "cell_type": "code",
   "execution_count": 10,
   "outputs": [],
   "source": [
    "X_train = X_train.astype(str).tolist()\n",
    "X_test = X_test.astype(str).tolist()\n",
    "\n",
    "tokenizer = Tokenizer(num_words=5000)\n",
    "tokenizer.fit_on_texts(X_train)\n",
    "\n",
    "X_train = tokenizer.texts_to_sequences(X_train)\n",
    "X_test = tokenizer.texts_to_sequences(X_test)\n",
    "\n",
    "maxlen = 200\n",
    "X_train = pad_sequences(X_train, padding='post', maxlen=maxlen)\n",
    "X_test = pad_sequences(X_test, padding='post', maxlen=maxlen)\n"
   ],
   "metadata": {
    "collapsed": false,
    "ExecuteTime": {
     "end_time": "2023-12-16T06:47:10.386894Z",
     "start_time": "2023-12-16T06:47:03.513029Z"
    }
   },
   "id": "30a713101cc10eb1"
  },
  {
   "cell_type": "code",
   "execution_count": 11,
   "outputs": [
    {
     "name": "stdout",
     "output_type": "stream",
     "text": [
      "Epoch 1/10\n",
      "\u001B[1m704/704\u001B[0m \u001B[32m━━━━━━━━━━━━━━━━━━━━\u001B[0m\u001B[37m\u001B[0m \u001B[1m267s\u001B[0m 375ms/step - accuracy: 0.5584 - loss: 0.6874 - val_accuracy: 0.0248 - val_loss: 0.8224\n",
      "Epoch 2/10\n",
      "\u001B[1m704/704\u001B[0m \u001B[32m━━━━━━━━━━━━━━━━━━━━\u001B[0m\u001B[37m\u001B[0m \u001B[1m281s\u001B[0m 399ms/step - accuracy: 0.5825 - loss: 0.6781 - val_accuracy: 0.0712 - val_loss: 0.7696\n",
      "Epoch 3/10\n",
      "\u001B[1m704/704\u001B[0m \u001B[32m━━━━━━━━━━━━━━━━━━━━\u001B[0m\u001B[37m\u001B[0m \u001B[1m284s\u001B[0m 404ms/step - accuracy: 0.5822 - loss: 0.6526 - val_accuracy: 0.1128 - val_loss: 0.7653\n",
      "Epoch 4/10\n",
      "\u001B[1m704/704\u001B[0m \u001B[32m━━━━━━━━━━━━━━━━━━━━\u001B[0m\u001B[37m\u001B[0m \u001B[1m255s\u001B[0m 363ms/step - accuracy: 0.6686 - loss: 0.6082 - val_accuracy: 0.8332 - val_loss: 0.5161\n",
      "Epoch 5/10\n",
      "\u001B[1m704/704\u001B[0m \u001B[32m━━━━━━━━━━━━━━━━━━━━\u001B[0m\u001B[37m\u001B[0m \u001B[1m311s\u001B[0m 441ms/step - accuracy: 0.7489 - loss: 0.5161 - val_accuracy: 0.9172 - val_loss: 0.3850\n",
      "Epoch 6/10\n",
      "\u001B[1m704/704\u001B[0m \u001B[32m━━━━━━━━━━━━━━━━━━━━\u001B[0m\u001B[37m\u001B[0m \u001B[1m297s\u001B[0m 422ms/step - accuracy: 0.7407 - loss: 0.5256 - val_accuracy: 0.8664 - val_loss: 0.3923\n",
      "Epoch 7/10\n",
      "\u001B[1m704/704\u001B[0m \u001B[32m━━━━━━━━━━━━━━━━━━━━\u001B[0m\u001B[37m\u001B[0m \u001B[1m289s\u001B[0m 411ms/step - accuracy: 0.8801 - loss: 0.3077 - val_accuracy: 0.9004 - val_loss: 0.2791\n",
      "Epoch 8/10\n",
      "\u001B[1m704/704\u001B[0m \u001B[32m━━━━━━━━━━━━━━━━━━━━\u001B[0m\u001B[37m\u001B[0m \u001B[1m368s\u001B[0m 523ms/step - accuracy: 0.9106 - loss: 0.2357 - val_accuracy: 0.8660 - val_loss: 0.3488\n",
      "Epoch 9/10\n",
      "\u001B[1m704/704\u001B[0m \u001B[32m━━━━━━━━━━━━━━━━━━━━\u001B[0m\u001B[37m\u001B[0m \u001B[1m281s\u001B[0m 399ms/step - accuracy: 0.9287 - loss: 0.1975 - val_accuracy: 0.8144 - val_loss: 0.4632\n",
      "Epoch 10/10\n",
      "\u001B[1m704/704\u001B[0m \u001B[32m━━━━━━━━━━━━━━━━━━━━\u001B[0m\u001B[37m\u001B[0m \u001B[1m444s\u001B[0m 631ms/step - accuracy: 0.9475 - loss: 0.1559 - val_accuracy: 0.8368 - val_loss: 0.4599\n",
      "\u001B[1m782/782\u001B[0m \u001B[32m━━━━━━━━━━━━━━━━━━━━\u001B[0m\u001B[37m\u001B[0m \u001B[1m266s\u001B[0m 340ms/step - accuracy: 0.9717 - loss: 0.0956\n",
      "Test Accuracy: 0.9554799795150757\n"
     ]
    }
   ],
   "source": [
    "model = Sequential()\n",
    "model.add(Embedding(input_dim=5000, output_dim=100))\n",
    "model.add(LSTM(128))\n",
    "model.add(Dropout(0.2))\n",
    "model.add(Dense(1, activation='sigmoid'))\n",
    "\n",
    "model.compile(optimizer='adam', loss='binary_crossentropy', metrics=['accuracy'])\n",
    "\n",
    "model.fit(X_train, y_train, batch_size=32, epochs=10, validation_split=0.1)\n",
    "\n",
    "loss, accuracy = model.evaluate(X_test, y_test)\n",
    "print(\"Test Accuracy:\", accuracy)"
   ],
   "metadata": {
    "collapsed": false,
    "ExecuteTime": {
     "end_time": "2023-12-16T07:42:54.900240Z",
     "start_time": "2023-12-16T06:47:10.399403Z"
    }
   },
   "id": "2ebbf599f86b342b"
  },
  {
   "cell_type": "code",
   "execution_count": 12,
   "outputs": [
    {
     "name": "stdout",
     "output_type": "stream",
     "text": [
      "\u001B[1m782/782\u001B[0m \u001B[32m━━━━━━━━━━━━━━━━━━━━\u001B[0m\u001B[37m\u001B[0m \u001B[1m256s\u001B[0m 327ms/step\n",
      "Test F1 Score: 0.9546214375993802\n"
     ]
    }
   ],
   "source": [
    "y_pred = model.predict(X_test)\n",
    "y_pred_binary = [1 if val > 0.5 else 0 for val in y_pred]\n",
    "\n",
    "f1 = f1_score(y_test, y_pred_binary)\n",
    "\n",
    "print(\"Test F1 Score:\", f1)"
   ],
   "metadata": {
    "collapsed": false,
    "ExecuteTime": {
     "end_time": "2023-12-16T07:47:11.173746Z",
     "start_time": "2023-12-16T07:42:54.900111Z"
    }
   },
   "id": "92ed7a9ef6604759"
  },
  {
   "cell_type": "code",
   "execution_count": 13,
   "outputs": [
    {
     "name": "stdout",
     "output_type": "stream",
     "text": [
      "Epoch 1/10\n",
      "\u001B[1m704/704\u001B[0m \u001B[32m━━━━━━━━━━━━━━━━━━━━\u001B[0m\u001B[37m\u001B[0m \u001B[1m365s\u001B[0m 515ms/step - accuracy: 0.7369 - loss: 0.5031 - val_accuracy: 0.9140 - val_loss: 0.2162\n",
      "Epoch 2/10\n",
      "\u001B[1m704/704\u001B[0m \u001B[32m━━━━━━━━━━━━━━━━━━━━\u001B[0m\u001B[37m\u001B[0m \u001B[1m316s\u001B[0m 449ms/step - accuracy: 0.8811 - loss: 0.3157 - val_accuracy: 0.8696 - val_loss: 0.3427\n",
      "Epoch 3/10\n",
      "\u001B[1m704/704\u001B[0m \u001B[32m━━━━━━━━━━━━━━━━━━━━\u001B[0m\u001B[37m\u001B[0m \u001B[1m433s\u001B[0m 616ms/step - accuracy: 0.9203 - loss: 0.2155 - val_accuracy: 0.8740 - val_loss: 0.3065\n",
      "Epoch 4/10\n",
      "\u001B[1m704/704\u001B[0m \u001B[32m━━━━━━━━━━━━━━━━━━━━\u001B[0m\u001B[37m\u001B[0m \u001B[1m564s\u001B[0m 801ms/step - accuracy: 0.9326 - loss: 0.1845 - val_accuracy: 0.8392 - val_loss: 0.4548\n",
      "Epoch 5/10\n",
      "\u001B[1m704/704\u001B[0m \u001B[32m━━━━━━━━━━━━━━━━━━━━\u001B[0m\u001B[37m\u001B[0m \u001B[1m336s\u001B[0m 478ms/step - accuracy: 0.9390 - loss: 0.1638 - val_accuracy: 0.8436 - val_loss: 0.4466\n",
      "Epoch 6/10\n",
      "\u001B[1m704/704\u001B[0m \u001B[32m━━━━━━━━━━━━━━━━━━━━\u001B[0m\u001B[37m\u001B[0m \u001B[1m395s\u001B[0m 562ms/step - accuracy: 0.9567 - loss: 0.1219 - val_accuracy: 0.8100 - val_loss: 0.6257\n",
      "Epoch 7/10\n",
      "\u001B[1m704/704\u001B[0m \u001B[32m━━━━━━━━━━━━━━━━━━━━\u001B[0m\u001B[37m\u001B[0m \u001B[1m277s\u001B[0m 393ms/step - accuracy: 0.9666 - loss: 0.1004 - val_accuracy: 0.8552 - val_loss: 0.4565\n",
      "Epoch 8/10\n",
      "\u001B[1m704/704\u001B[0m \u001B[32m━━━━━━━━━━━━━━━━━━━━\u001B[0m\u001B[37m\u001B[0m \u001B[1m276s\u001B[0m 392ms/step - accuracy: 0.9676 - loss: 0.0941 - val_accuracy: 0.8512 - val_loss: 0.6053\n",
      "Epoch 9/10\n",
      "\u001B[1m704/704\u001B[0m \u001B[32m━━━━━━━━━━━━━━━━━━━━\u001B[0m\u001B[37m\u001B[0m \u001B[1m258s\u001B[0m 367ms/step - accuracy: 0.9814 - loss: 0.0611 - val_accuracy: 0.8316 - val_loss: 0.6694\n",
      "Epoch 10/10\n",
      "\u001B[1m704/704\u001B[0m \u001B[32m━━━━━━━━━━━━━━━━━━━━\u001B[0m\u001B[37m\u001B[0m \u001B[1m379s\u001B[0m 538ms/step - accuracy: 0.9870 - loss: 0.0458 - val_accuracy: 0.8440 - val_loss: 0.6623\n",
      "\u001B[1m782/782\u001B[0m \u001B[32m━━━━━━━━━━━━━━━━━━━━\u001B[0m\u001B[37m\u001B[0m \u001B[1m163s\u001B[0m 209ms/step - accuracy: 0.9890 - loss: 0.0364\n",
      "Test Accuracy: 0.9766799807548523\n"
     ]
    }
   ],
   "source": [
    "from keras.layers import Bidirectional\n",
    "\n",
    "model = Sequential()\n",
    "model.add(Embedding(input_dim=5000, output_dim=100))\n",
    "model.add(Bidirectional(LSTM(128)))  # Wrapping LSTM layer with Bidirectional\n",
    "model.add(Dropout(0.2))\n",
    "model.add(Dense(1, activation='sigmoid'))\n",
    "\n",
    "model.compile(optimizer='adam', loss='binary_crossentropy', metrics=['accuracy'])\n",
    "\n",
    "model.fit(X_train, y_train, batch_size=32, epochs=10, validation_split=0.1)\n",
    "\n",
    "loss, accuracy = model.evaluate(X_test, y_test)\n",
    "print(\"Test Accuracy:\", accuracy)"
   ],
   "metadata": {
    "collapsed": false,
    "ExecuteTime": {
     "end_time": "2023-12-16T08:49:54.068182Z",
     "start_time": "2023-12-16T07:47:11.183012Z"
    }
   },
   "id": "f65dc26db65d0f5e"
  },
  {
   "cell_type": "code",
   "execution_count": 14,
   "outputs": [
    {
     "name": "stdout",
     "output_type": "stream",
     "text": [
      "\u001B[1m782/782\u001B[0m \u001B[32m━━━━━━━━━━━━━━━━━━━━\u001B[0m\u001B[37m\u001B[0m \u001B[1m135s\u001B[0m 173ms/step\n",
      "Test F1 Score: 0.9763785908188485\n"
     ]
    }
   ],
   "source": [
    "y_pred = model.predict(X_test)\n",
    "y_pred_binary = [1 if val > 0.5 else 0 for val in y_pred]\n",
    "\n",
    "f1 = f1_score(y_test, y_pred_binary)\n",
    "\n",
    "print(\"Test F1 Score:\", f1)"
   ],
   "metadata": {
    "collapsed": false,
    "ExecuteTime": {
     "end_time": "2023-12-16T08:52:09.646580Z",
     "start_time": "2023-12-16T08:49:54.072763Z"
    }
   },
   "id": "7962db060de1fcc3"
  },
  {
   "cell_type": "markdown",
   "source": [
    "# LSTM Chinese Model"
   ],
   "metadata": {
    "collapsed": false
   },
   "id": "8ed878d40ab5a44c"
  },
  {
   "cell_type": "code",
   "execution_count": 15,
   "outputs": [
    {
     "name": "stderr",
     "output_type": "stream",
     "text": [
      "Building prefix dict from the default dictionary ...\n",
      "Loading model from cache /var/folders/8y/pwclkfq17dgfr91dw_mc9flr0000gn/T/jieba.cache\n",
      "Loading model cost 0.593 seconds.\n",
      "Prefix dict has been built successfully.\n"
     ]
    }
   ],
   "source": [
    "import jieba\n",
    "import pandas as pd\n",
    "\n",
    "\n",
    "train_df = pd.read_csv(\"data/chinese/chnsenticorp-main/train.tsv\", delimiter='\\t', encoding='utf-8')\n",
    "test_df = pd.read_csv(\"data/chinese/chnsenticorp-main/test.tsv\", delimiter='\\t', encoding='utf-8')\n",
    "val_df = pd.read_csv(\"data/chinese/chnsenticorp-main/dev.tsv\", delimiter='\\t', encoding='utf-8')\n",
    "\n",
    "def load_stop_words(file_path):\n",
    "    with open(file_path, 'r', encoding='utf-8') as file:\n",
    "        stop_words = set(file.read().splitlines())\n",
    "    return stop_words\n",
    "\n",
    "stop_words = load_stop_words('data/chinese/stopwords-zh.txt')\n",
    "\n",
    "def clean_text(text):\n",
    "    words = jieba.cut(text)\n",
    "    words = [word for word in words if word not in stop_words]\n",
    "    return ' '.join(words)\n",
    "\n",
    "train_df['text_a'] = train_df['text_a'].apply(clean_text)\n",
    "test_df['text_a'] = test_df['text_a'].apply(clean_text)\n",
    "val_df['text_a'] = val_df['text_a'].apply(clean_text)"
   ],
   "metadata": {
    "collapsed": false,
    "ExecuteTime": {
     "end_time": "2023-12-16T08:52:14.963757Z",
     "start_time": "2023-12-16T08:52:09.649195Z"
    }
   },
   "id": "1f0bcf6472e1c07e"
  },
  {
   "cell_type": "code",
   "execution_count": 16,
   "outputs": [],
   "source": [
    "X_train = X_train.astype(str).tolist()\n",
    "X_test = X_test.astype(str).tolist()\n",
    "\n",
    "tokenizer = Tokenizer(num_words=5000)\n",
    "tokenizer.fit_on_texts(X_train)\n",
    "\n",
    "X_train = tokenizer.texts_to_sequences(X_train)\n",
    "X_test = tokenizer.texts_to_sequences(X_test)\n",
    "\n",
    "maxlen = 200\n",
    "X_train = pad_sequences(X_train, padding='post', maxlen=maxlen)\n",
    "X_test = pad_sequences(X_test, padding='post', maxlen=maxlen)"
   ],
   "metadata": {
    "collapsed": false,
    "ExecuteTime": {
     "end_time": "2023-12-16T08:52:21.630626Z",
     "start_time": "2023-12-16T08:52:14.964936Z"
    }
   },
   "id": "16f267131b825cd2"
  },
  {
   "cell_type": "code",
   "execution_count": 17,
   "outputs": [
    {
     "name": "stdout",
     "output_type": "stream",
     "text": [
      "Epoch 1/10\n",
      "\u001B[1m704/704\u001B[0m \u001B[32m━━━━━━━━━━━━━━━━━━━━\u001B[0m\u001B[37m\u001B[0m \u001B[1m151s\u001B[0m 212ms/step - accuracy: 0.5562 - loss: 0.6876 - val_accuracy: 0.0252 - val_loss: 0.8719\n",
      "Epoch 2/10\n",
      "\u001B[1m704/704\u001B[0m \u001B[32m━━━━━━━━━━━━━━━━━━━━\u001B[0m\u001B[37m\u001B[0m \u001B[1m128s\u001B[0m 182ms/step - accuracy: 0.5633 - loss: 0.6914 - val_accuracy: 0.0632 - val_loss: 0.7331\n",
      "Epoch 3/10\n",
      "\u001B[1m704/704\u001B[0m \u001B[32m━━━━━━━━━━━━━━━━━━━━\u001B[0m\u001B[37m\u001B[0m \u001B[1m145s\u001B[0m 206ms/step - accuracy: 0.5590 - loss: 0.6796 - val_accuracy: 0.0400 - val_loss: 0.8277\n",
      "Epoch 4/10\n",
      "\u001B[1m704/704\u001B[0m \u001B[32m━━━━━━━━━━━━━━━━━━━━\u001B[0m\u001B[37m\u001B[0m \u001B[1m119s\u001B[0m 170ms/step - accuracy: 0.5792 - loss: 0.6629 - val_accuracy: 0.0476 - val_loss: 0.9793\n",
      "Epoch 5/10\n",
      "\u001B[1m704/704\u001B[0m \u001B[32m━━━━━━━━━━━━━━━━━━━━\u001B[0m\u001B[37m\u001B[0m \u001B[1m152s\u001B[0m 216ms/step - accuracy: 0.5959 - loss: 0.6715 - val_accuracy: 0.9124 - val_loss: 0.6334\n",
      "Epoch 6/10\n",
      "\u001B[1m704/704\u001B[0m \u001B[32m━━━━━━━━━━━━━━━━━━━━\u001B[0m\u001B[37m\u001B[0m \u001B[1m157s\u001B[0m 223ms/step - accuracy: 0.7709 - loss: 0.4819 - val_accuracy: 0.8104 - val_loss: 0.4525\n",
      "Epoch 7/10\n",
      "\u001B[1m704/704\u001B[0m \u001B[32m━━━━━━━━━━━━━━━━━━━━\u001B[0m\u001B[37m\u001B[0m \u001B[1m159s\u001B[0m 226ms/step - accuracy: 0.8876 - loss: 0.2911 - val_accuracy: 0.8764 - val_loss: 0.3036\n",
      "Epoch 8/10\n",
      "\u001B[1m704/704\u001B[0m \u001B[32m━━━━━━━━━━━━━━━━━━━━\u001B[0m\u001B[37m\u001B[0m \u001B[1m235s\u001B[0m 334ms/step - accuracy: 0.9173 - loss: 0.2252 - val_accuracy: 0.8432 - val_loss: 0.4066\n",
      "Epoch 9/10\n",
      "\u001B[1m704/704\u001B[0m \u001B[32m━━━━━━━━━━━━━━━━━━━━\u001B[0m\u001B[37m\u001B[0m \u001B[1m219s\u001B[0m 311ms/step - accuracy: 0.9198 - loss: 0.2210 - val_accuracy: 0.8036 - val_loss: 0.4722\n",
      "Epoch 10/10\n",
      "\u001B[1m704/704\u001B[0m \u001B[32m━━━━━━━━━━━━━━━━━━━━\u001B[0m\u001B[37m\u001B[0m \u001B[1m243s\u001B[0m 345ms/step - accuracy: 0.9219 - loss: 0.2164 - val_accuracy: 0.8668 - val_loss: 0.3813\n",
      "\u001B[1m782/782\u001B[0m \u001B[32m━━━━━━━━━━━━━━━━━━━━\u001B[0m\u001B[37m\u001B[0m \u001B[1m172s\u001B[0m 220ms/step - accuracy: 0.9444 - loss: 0.1557\n",
      "Test Accuracy: 0.9401999711990356\n"
     ]
    }
   ],
   "source": [
    "model = Sequential()\n",
    "model.add(Embedding(input_dim=5000, output_dim=100))\n",
    "model.add(LSTM(128))\n",
    "model.add(Dropout(0.2))\n",
    "model.add(Dense(1, activation='sigmoid'))\n",
    "\n",
    "model.compile(optimizer='adam', loss='binary_crossentropy', metrics=['accuracy'])\n",
    "\n",
    "model.fit(X_train, y_train, batch_size=32, epochs=10, validation_split=0.1)\n",
    "\n",
    "loss, accuracy = model.evaluate(X_test, y_test)\n",
    "print(\"Test Accuracy:\", accuracy)"
   ],
   "metadata": {
    "collapsed": false,
    "ExecuteTime": {
     "end_time": "2023-12-16T09:23:42.220493Z",
     "start_time": "2023-12-16T08:52:21.637365Z"
    }
   },
   "id": "23402c8cfe52836f"
  },
  {
   "cell_type": "code",
   "execution_count": 18,
   "outputs": [
    {
     "name": "stdout",
     "output_type": "stream",
     "text": [
      "\u001B[1m782/782\u001B[0m \u001B[32m━━━━━━━━━━━━━━━━━━━━\u001B[0m\u001B[37m\u001B[0m \u001B[1m136s\u001B[0m 174ms/step\n",
      "Test F1 Score: 0.9401017668977122\n"
     ]
    }
   ],
   "source": [
    "y_pred = model.predict(X_test)\n",
    "y_pred_binary = [1 if val > 0.5 else 0 for val in y_pred]\n",
    "\n",
    "f1 = f1_score(y_test, y_pred_binary)\n",
    "\n",
    "print(\"Test F1 Score:\", f1)"
   ],
   "metadata": {
    "collapsed": false,
    "ExecuteTime": {
     "end_time": "2023-12-16T09:25:58.806432Z",
     "start_time": "2023-12-16T09:23:42.216018Z"
    }
   },
   "id": "88e5481ef4c576fe"
  },
  {
   "cell_type": "code",
   "execution_count": 19,
   "outputs": [
    {
     "name": "stdout",
     "output_type": "stream",
     "text": [
      "Epoch 1/10\n",
      "\u001B[1m704/704\u001B[0m \u001B[32m━━━━━━━━━━━━━━━━━━━━\u001B[0m\u001B[37m\u001B[0m \u001B[1m352s\u001B[0m 495ms/step - accuracy: 0.7353 - loss: 0.5222 - val_accuracy: 0.5940 - val_loss: 0.6685\n",
      "Epoch 2/10\n",
      "\u001B[1m704/704\u001B[0m \u001B[32m━━━━━━━━━━━━━━━━━━━━\u001B[0m\u001B[37m\u001B[0m \u001B[1m375s\u001B[0m 533ms/step - accuracy: 0.8565 - loss: 0.3579 - val_accuracy: 0.8164 - val_loss: 0.4156\n",
      "Epoch 3/10\n",
      "\u001B[1m704/704\u001B[0m \u001B[32m━━━━━━━━━━━━━━━━━━━━\u001B[0m\u001B[37m\u001B[0m \u001B[1m391s\u001B[0m 555ms/step - accuracy: 0.9132 - loss: 0.2401 - val_accuracy: 0.8696 - val_loss: 0.3354\n",
      "Epoch 4/10\n",
      "\u001B[1m704/704\u001B[0m \u001B[32m━━━━━━━━━━━━━━━━━━━━\u001B[0m\u001B[37m\u001B[0m \u001B[1m364s\u001B[0m 516ms/step - accuracy: 0.9275 - loss: 0.1978 - val_accuracy: 0.8176 - val_loss: 0.4355\n",
      "Epoch 5/10\n",
      "\u001B[1m704/704\u001B[0m \u001B[32m━━━━━━━━━━━━━━━━━━━━\u001B[0m\u001B[37m\u001B[0m \u001B[1m244s\u001B[0m 347ms/step - accuracy: 0.9321 - loss: 0.1869 - val_accuracy: 0.8056 - val_loss: 0.5097\n",
      "Epoch 6/10\n",
      "\u001B[1m704/704\u001B[0m \u001B[32m━━━━━━━━━━━━━━━━━━━━\u001B[0m\u001B[37m\u001B[0m \u001B[1m236s\u001B[0m 335ms/step - accuracy: 0.9491 - loss: 0.1443 - val_accuracy: 0.9100 - val_loss: 0.2769\n",
      "Epoch 7/10\n",
      "\u001B[1m704/704\u001B[0m \u001B[32m━━━━━━━━━━━━━━━━━━━━\u001B[0m\u001B[37m\u001B[0m \u001B[1m243s\u001B[0m 345ms/step - accuracy: 0.9605 - loss: 0.1214 - val_accuracy: 0.8536 - val_loss: 0.4311\n",
      "Epoch 8/10\n",
      "\u001B[1m704/704\u001B[0m \u001B[32m━━━━━━━━━━━━━━━━━━━━\u001B[0m\u001B[37m\u001B[0m \u001B[1m242s\u001B[0m 344ms/step - accuracy: 0.9712 - loss: 0.0901 - val_accuracy: 0.8532 - val_loss: 0.4652\n",
      "Epoch 9/10\n",
      "\u001B[1m704/704\u001B[0m \u001B[32m━━━━━━━━━━━━━━━━━━━━\u001B[0m\u001B[37m\u001B[0m \u001B[1m253s\u001B[0m 360ms/step - accuracy: 0.9666 - loss: 0.1062 - val_accuracy: 0.8212 - val_loss: 0.6017\n",
      "Epoch 10/10\n",
      "\u001B[1m704/704\u001B[0m \u001B[32m━━━━━━━━━━━━━━━━━━━━\u001B[0m\u001B[37m\u001B[0m \u001B[1m248s\u001B[0m 352ms/step - accuracy: 0.9785 - loss: 0.0694 - val_accuracy: 0.8440 - val_loss: 0.5527\n",
      "\u001B[1m782/782\u001B[0m \u001B[32m━━━━━━━━━━━━━━━━━━━━\u001B[0m\u001B[37m\u001B[0m \u001B[1m97s\u001B[0m 123ms/step - accuracy: 0.9570 - loss: 0.1147\n",
      "Test Accuracy: 0.9531199932098389\n"
     ]
    }
   ],
   "source": [
    "from keras.layers import Bidirectional\n",
    "\n",
    "model = Sequential()\n",
    "model.add(Embedding(input_dim=5000, output_dim=100))\n",
    "model.add(Bidirectional(LSTM(128)))\n",
    "model.add(Dropout(0.2))\n",
    "model.add(Dense(1, activation='sigmoid'))\n",
    "\n",
    "model.compile(optimizer='adam', loss='binary_crossentropy', metrics=['accuracy'])\n",
    "\n",
    "model.fit(X_train, y_train, batch_size=32, epochs=10, validation_split=0.1)\n",
    "\n",
    "loss, accuracy = model.evaluate(X_test, y_test)\n",
    "print(\"Test Accuracy:\", accuracy)"
   ],
   "metadata": {
    "collapsed": false,
    "ExecuteTime": {
     "end_time": "2023-12-16T10:16:42.318711Z",
     "start_time": "2023-12-16T09:25:58.809528Z"
    }
   },
   "id": "bf5326b46198da74"
  },
  {
   "cell_type": "code",
   "execution_count": 20,
   "outputs": [
    {
     "name": "stdout",
     "output_type": "stream",
     "text": [
      "\u001B[1m782/782\u001B[0m \u001B[32m━━━━━━━━━━━━━━━━━━━━\u001B[0m\u001B[37m\u001B[0m \u001B[1m112s\u001B[0m 143ms/step\n",
      "Test F1 Score: 0.9531612181280473\n"
     ]
    }
   ],
   "source": [
    "y_pred = model.predict(X_test)\n",
    "y_pred_binary = [1 if val > 0.5 else 0 for val in y_pred]\n",
    "\n",
    "f1 = f1_score(y_test, y_pred_binary)\n",
    "\n",
    "print(\"Test F1 Score:\", f1)"
   ],
   "metadata": {
    "collapsed": false,
    "ExecuteTime": {
     "end_time": "2023-12-16T10:18:34.689712Z",
     "start_time": "2023-12-16T10:16:42.321733Z"
    }
   },
   "id": "5e97646d98542824"
  }
 ],
 "metadata": {
  "kernelspec": {
   "display_name": "Python 3",
   "language": "python",
   "name": "python3"
  },
  "language_info": {
   "codemirror_mode": {
    "name": "ipython",
    "version": 2
   },
   "file_extension": ".py",
   "mimetype": "text/x-python",
   "name": "python",
   "nbconvert_exporter": "python",
   "pygments_lexer": "ipython2",
   "version": "2.7.6"
  }
 },
 "nbformat": 4,
 "nbformat_minor": 5
}
